{
 "cells": [
  {
   "cell_type": "code",
   "execution_count": 1,
   "metadata": {},
   "outputs": [
    {
     "name": "stderr",
     "output_type": "stream",
     "text": [
      "Using TensorFlow backend.\n"
     ]
    }
   ],
   "source": [
    "import cv2\n",
    "import os\n",
    "import pathlib\n",
    "import matplotlib.pyplot as plt\n",
    "import tensorflow as tf\n",
    "import numpy as np\n",
    "import keras\n",
    "import sklearn.preprocessing\n",
    "import sklearn.model_selection\n",
    "import random\n",
    "import time"
   ]
  },
  {
   "cell_type": "markdown",
   "metadata": {},
   "source": [
    "## Load Data"
   ]
  },
  {
   "cell_type": "code",
   "execution_count": null,
   "metadata": {},
   "outputs": [],
   "source": [
    "data_path = \"../training/weapon_classifier/\"\n",
    "\n",
    "categories = {\n",
    "    file.name[:-4]: file\n",
    "    for file in pathlib.Path(data_path).iterdir()\n",
    "    if file.is_file() and file.name.endswith(\".txt\")\n",
    "}\n",
    "\n",
    "image_paths = {}\n",
    "for k in categories:\n",
    "    image_paths[k] = []\n",
    "    with open(categories[k], \"r\") as f:\n",
    "        for line in f:\n",
    "            line = line.strip()\n",
    "            if line != '':\n",
    "                base_dir = \"../data/unlabeled_frames\"\n",
    "                image_paths[k].append(os.path.join(base_dir, line))\n",
    "\n",
    "\n",
    "                \n",
    "images = []\n",
    "labels = []\n",
    "for label, image_paths in image_paths.items():\n",
    "    for image_path in image_paths:\n",
    "        image = cv2.imread(image_path) / 255\n",
    "        image = image[200:400,300:500]\n",
    "        images.append(image)\n",
    "        labels.append(label)\n",
    "\n",
    "seed = time.time()\n",
    "random.seed(seed)\n",
    "random.shuffle(images)\n",
    "random.seed(seed)\n",
    "random.shuffle(labels)\n",
    "\n",
    "label_encoder = sklearn.preprocessing.LabelEncoder()\n",
    "label_encoder.fit(labels)\n",
    "int_labels = label_encoder.transform(labels)\n"
   ]
  },
  {
   "cell_type": "markdown",
   "metadata": {},
   "source": [
    "## Build Model"
   ]
  },
  {
   "cell_type": "code",
   "execution_count": null,
   "metadata": {},
   "outputs": [],
   "source": [
    "\n",
    "n = 54\n",
    "plt.imshow(images[n])\n",
    "print(labels[n])\n",
    "plt.show()"
   ]
  },
  {
   "cell_type": "code",
   "execution_count": 38,
   "metadata": {},
   "outputs": [],
   "source": [
    "model = tf.keras.models.Sequential()\n",
    "\n",
    "\n",
    "model.add(tf.keras.layers.Conv2D(64, (3, 3), input_shape=(200, 200, 3)))\n",
    "model.add(tf.keras.layers.Activation(\"relu\"))\n",
    "model.add(tf.keras.layers.MaxPooling2D(pool_size=(2,2)))\n",
    "\n",
    "model.add(tf.keras.layers.Conv2D(64, (3, 3)))\n",
    "model.add(tf.keras.layers.Activation(\"relu\"))\n",
    "model.add(tf.keras.layers.MaxPooling2D(pool_size=(2,2)))\n",
    "\n",
    "model.add(tf.keras.layers.Flatten())\n",
    "model.add(tf.keras.layers.Dense(128))\n",
    "\n",
    "model.add(tf.keras.layers.Dense(len(categories.keys())))\n",
    "model.add(tf.keras.layers.Activation(\"softmax\"))\n",
    "\n",
    "model.compile(\n",
    "    loss=\"sparse_categorical_crossentropy\",\n",
    "    optimizer=\"adam\",\n",
    "    metrics=[\"accuracy\"]\n",
    ")"
   ]
  },
  {
   "cell_type": "code",
   "execution_count": null,
   "metadata": {},
   "outputs": [
    {
     "name": "stdout",
     "output_type": "stream",
     "text": [
      "Train on 387 samples, validate on 44 samples\n",
      "Epoch 1/1\n"
     ]
    }
   ],
   "source": [
    "model.fit(np.stack(images), int_labels, epochs=1, batch_size=100, validation_split=0.1)"
   ]
  },
  {
   "cell_type": "code",
   "execution_count": null,
   "metadata": {},
   "outputs": [],
   "source": []
  }
 ],
 "metadata": {
  "kernelspec": {
   "display_name": "Python 3",
   "language": "python",
   "name": "python3"
  },
  "language_info": {
   "codemirror_mode": {
    "name": "ipython",
    "version": 3
   },
   "file_extension": ".py",
   "mimetype": "text/x-python",
   "name": "python",
   "nbconvert_exporter": "python",
   "pygments_lexer": "ipython3",
   "version": "3.6.0"
  }
 },
 "nbformat": 4,
 "nbformat_minor": 2
}
